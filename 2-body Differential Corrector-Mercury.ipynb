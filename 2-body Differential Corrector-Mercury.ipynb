{
 "cells": [
  {
   "cell_type": "code",
   "execution_count": 1,
   "metadata": {},
   "outputs": [],
   "source": [
    "import numpy as np\n",
    "import pandas as pd\n",
    "import os\n",
    "import matplotlib.pyplot as plt\n",
    "import spiceypy\n",
    "import sympy as sym\n",
    "import math\n",
    "import numpy.linalg as la\n",
    "import scipy\n",
    "import random\n",
    "from scipy import linalg\n",
    "from scipy import optimize\n",
    "#The following code will be made with respect to the Sun as the origin and observations for Mercury"
   ]
  },
  {
   "cell_type": "code",
   "execution_count": 2,
   "metadata": {},
   "outputs": [],
   "source": [
    "def jd2et(jd):\n",
    "    \"\"\"\n",
    "    Converts Julian Date to JPL NAIF SPICE Ephemeris time.\n",
    "    Only valid for TDB timescales.\n",
    "    Parameters:\n",
    "    -----------\n",
    "    JD ... Modified Julian Day\n",
    "    Returns:\n",
    "    --------\n",
    "    ET  ... Ephemeris time (ephemeris seconds beyond epoch J2000)\n",
    "    \"\"\"\n",
    "    et = (jd-2451545.0)*86400\n",
    "    return et"
   ]
  },
  {
   "cell_type": "code",
   "execution_count": 3,
   "metadata": {},
   "outputs": [],
   "source": [
    "#Specify number of observations (user input)\n",
    "n = 5"
   ]
  },
  {
   "cell_type": "code",
   "execution_count": 4,
   "metadata": {},
   "outputs": [],
   "source": [
    "#Obtain x,y,z coordinates and convert to angle pairs\n",
    "t0 = 2451545.000000000\n",
    "et = []\n",
    "for i in range(n):\n",
    "    et.append(t0+i)\n",
    "mu = 132712440041.93938\n",
    "#Initial keplerian state values\n",
    "kepinit = np.array([5.790906829452708E+07, 2.056302933705567E-01, math.radians(7.005014303275355E+00), math.radians(4.833053855197922E+01), math.radians(2.912428165737838E+01), math.radians(1.747958829169579E+02)])"
   ]
  },
  {
   "cell_type": "code",
   "execution_count": 5,
   "metadata": {},
   "outputs": [],
   "source": [
    "def MtoE(e, M):\n",
    "    \"\"\"\n",
    "    Converts mean anomaly to eccentric anomaly\n",
    "    Parameters:\n",
    "    -----------\n",
    "    Mean anomaly, eccentricity\n",
    "    Returns:\n",
    "    --------\n",
    "    Eccentric anomaly\n",
    "    \"\"\"\n",
    "    def f(E):\n",
    "        return E - e*math.sin(E) - M\n",
    "    def fprime(E):\n",
    "        return 1 - e*math.cos(E)\n",
    "    root = scipy.optimize.newton(f, x0=1, fprime=fprime)\n",
    "    return root"
   ]
  },
  {
   "cell_type": "code",
   "execution_count": 6,
   "metadata": {},
   "outputs": [],
   "source": [
    "def kep2anglepairs(kep, t):\n",
    "    \"\"\"\n",
    "    Converts keplerian element array to x,y,z coordinates and alpha, delta anglepairs\n",
    "    Parameters:\n",
    "    -----------\n",
    "    Keplerian element array, time\n",
    "    Returns:\n",
    "    --------\n",
    "    x,y,z coordinates and alpha, delta anglepairs\n",
    "    \"\"\"\n",
    "    if (kep.ndim == 2):\n",
    "        kep = kep[:,0]\n",
    "    q = kep[0]*(1-kep[1])\n",
    "    kep[5] = kep[5] - kep[1]*math.sin(kep[5])\n",
    "    elts = np.hstack((q,kep[1:],jd2et(t),mu))\n",
    "    xyz = []\n",
    "    anglepairs = []\n",
    "    for e in et:\n",
    "        coordinates = spiceypy.conics(elts, jd2et(e))\n",
    "        x0 = coordinates[0]\n",
    "        y0 = coordinates[1]\n",
    "        z0 = coordinates[2]\n",
    "        alpha = math.atan(y0 / x0)\n",
    "        delta = math.asin(z0 / np.sqrt(x0**2 + y0**2 + z0**2))\n",
    "        xyz.append([x0, y0, z0])\n",
    "        anglepairs.append([alpha, delta])\n",
    "    return xyz, anglepairs"
   ]
  },
  {
   "cell_type": "code",
   "execution_count": 7,
   "metadata": {},
   "outputs": [],
   "source": [
    "#Generate the O matrix using the initial C matrix and random numbers\n",
    "xyz, C = kep2anglepairs(kepinit, et[0])\n",
    "C = np.array(C)\n",
    "C.resize(2*n, 1)\n",
    "#print(C)"
   ]
  },
  {
   "cell_type": "code",
   "execution_count": 8,
   "metadata": {},
   "outputs": [],
   "source": [
    "O = C\n",
    "for o in O:\n",
    "    o += random.random() / (10**random.randint(8, 10))\n",
    "    #print(o)\n",
    "#print(O)"
   ]
  },
  {
   "cell_type": "code",
   "execution_count": 9,
   "metadata": {},
   "outputs": [],
   "source": [
    "#Partial derivative conversions for keplerian elements\n",
    "def dalphada(x, y, a, e, I, omegaup, omegalow, E):\n",
    "    dalphdx = -y / (x**2 + y**2)\n",
    "    dxda = -math.sin(E)*(np.sqrt(1 - e**2))*(math.cos(omegaup)*math.sin(omegalow) + math.sin(omegaup)*math.cos(omegalow)*math.cos(I)) + (math.cos(E) - e)*(math.cos(omegaup)*math.cos(omegalow) - math.sin(omegaup)*math.sin(omegalow)*math.cos(I))\n",
    "    return dalphdx*dxda\n",
    "\n",
    "def dalphade(x, y, a, e, I, omegaup, omegalow, E):\n",
    "    dalphdx = -y / (x**2 + y**2)\n",
    "    dxde = a*(-math.cos(omegaup)*math.cos(omegalow) + math.sin(omegaup)*math.sin(omegalow)*math.cos(I) + math.sin(E)*(e / np.sqrt(1 - e**2))*(math.cos(omegaup)*math.sin(omegalow) + math.sin(omegaup)*math.cos(omegalow)*math.cos(I)))\n",
    "    return dalphdx*dxde\n",
    "\n",
    "def dalphadI(x, y, a, e, I, omegaup, omegalow, E):\n",
    "    dalphdx = -y / (x**2 + y**2)\n",
    "    dxdI = a*math.sin(omegaup)*math.sin(omegalow)*((np.sqrt(1 - e**2)) * math.cos(omegalow) * math.sin(E) + math.sin(omegalow)*(math.cos(E) - e))\n",
    "    return dalphdx*dxdI\n",
    "\n",
    "def dalphadomegaup(x, y, a, e, I, omegaup, omegalow, E):\n",
    "    dalphdx = -y / (x**2 + y**2)\n",
    "    dxdomegaup = a*((math.sin(omegaup)*math.sin(omegalow) - math.cos(omegaup)*math.cos(omegalow)*math.cos(I))*math.sin(E)*np.sqrt(1 - e**2) - (math.cos(E) - e)*(math.sin(omegaup)*math.cos(omegalow) + math.cos(omegaup)*math.sin(omegalow)*math.cos(I)))\n",
    "    return dalphdx*dxdomegaup\n",
    "\n",
    "def dalphadomegalow(x, y, a, e, I, omegaup, omegalow, E):\n",
    "    dalphdx = -y / (x**2 + y**2)\n",
    "    dxdomegalow = a*((-math.cos(omegaup)*math.cos(omegalow) + math.sin(omegaup)*math.sin(omegalow)*math.cos(I))*math.sin(E)*(np.sqrt(1 - e**2)) - (math.cos(E) - e) * (math.cos(omegaup)*math.sin(omegalow) + math.sin(omegaup)*math.cos(omegalow)*math.cos(I)))\n",
    "    return dalphdx*dxdomegalow\n",
    "\n",
    "def dalphadE(x, y, a, e, I, omegaup, omegalow, E):\n",
    "    dalphdx = -y / (x**2 + y**2)\n",
    "    dxdE = -a*((math.cos(omegaup)*math.sin(omegalow) + math.sin(omegaup)*math.cos(omegalow)*math.cos(I))*math.cos(E)*(np.sqrt(1 - e**2)) + math.sin(E)*(math.cos(omegaup)*math.cos(omegalow) - math.sin(omegaup)*math.sin(omegalow)*math.cos(I)))\n",
    "    return dalphdx*dxdE\n",
    "\n",
    "def ddeltada(x, y, z, a, e, I, omegaup, omegalow, E):\n",
    "    ddeltdx = -(x*z) / ((np.sqrt(x**2 + y**2))*(x**2 + y**2 + z**2))\n",
    "    dxda = -math.sin(E)*(np.sqrt(1 - e**2))*(math.cos(omegaup)*math.sin(omegalow) + math.sin(omegaup)*math.cos(omegalow)*math.cos(I)) + (math.cos(E) - e)*(math.cos(omegaup)*math.cos(omegalow) - math.sin(omegaup)*math.sin(omegalow)*math.cos(I))\n",
    "    return ddeltdx*dxda\n",
    "\n",
    "def ddeltade(x, y, z, a, e, I, omegaup, omegalow, E):\n",
    "    ddeltdx = -(x*z) / ((np.sqrt(x**2 + y**2))*(x**2 + y**2 + z**2))\n",
    "    dxde = a*(-math.cos(omegaup)*math.cos(omegalow) + math.sin(omegaup)*math.sin(omegalow)*math.cos(I) + math.sin(E)*(e / np.sqrt(1 - e**2))*(math.cos(omegaup)*math.sin(omegalow) + math.sin(omegaup)*math.cos(omegalow)*math.cos(I)))\n",
    "    return ddeltdx*dxde\n",
    "\n",
    "def ddeltadI(x, y, z, a, e, I, omegaup, omegalow, E):\n",
    "    ddeltdx = -(x*z) / ((np.sqrt(x**2 + y**2))*(x**2 + y**2 + z**2))\n",
    "    dxdI = a*math.sin(omegaup)*math.sin(omegalow)*((np.sqrt(1 - e**2)) * math.cos(omegalow) * math.sin(E) + math.sin(omegalow)*(math.cos(E) - e))\n",
    "    return ddeltdx*dxdI\n",
    "\n",
    "def ddeltadomegaup(x, y, z, a, e, I, omegaup, omegalow, E):\n",
    "    ddeltdx = -(x*z) / ((np.sqrt(x**2 + y**2))*(x**2 + y**2 + z**2))\n",
    "    dxdomegaup = a*((math.sin(omegaup)*math.sin(omegalow) - math.cos(omegaup)*math.cos(omegalow)*math.cos(I))*math.sin(E)*np.sqrt(1 - e**2) - (math.cos(E) - e)*(math.sin(omegaup)*math.cos(omegalow) + math.cos(omegaup)*math.sin(omegalow)*math.cos(I)))\n",
    "    return ddeltdx*dxdomegaup\n",
    "\n",
    "def ddeltadomegalow(x, y, z, a, e, I, omegaup, omegalow, E):\n",
    "    ddeltdx = -(x*z) / ((np.sqrt(x**2 + y**2))*(x**2 + y**2 + z**2))\n",
    "    dxdomegalow = a*((-math.cos(omegaup)*math.cos(omegalow) + math.sin(omegaup)*math.sin(omegalow)*math.cos(I))*math.sin(E)*(np.sqrt(1 - e**2)) - (math.cos(E) - e) * (math.cos(omegaup)*math.sin(omegalow) + math.sin(omegaup)*math.cos(omegalow)*math.cos(I)))\n",
    "    return ddeltdx*dxdomegalow\n",
    "\n",
    "def ddeltadE(x, y, z, a, e, I, omegaup, omegalow, E):\n",
    "    ddeltdx = -(x*z) / ((np.sqrt(x**2 + y**2))*(x**2 + y**2 + z**2))\n",
    "    dxdE = -a*((math.cos(omegaup)*math.sin(omegalow) + math.sin(omegaup)*math.cos(omegalow)*math.cos(I))*math.cos(E)*(np.sqrt(1 - e**2)) + math.sin(E)*(math.cos(omegaup)*math.cos(omegalow) - math.sin(omegaup)*math.sin(omegalow)*math.cos(I)))\n",
    "    return ddeltdx*dxdE"
   ]
  },
  {
   "cell_type": "code",
   "execution_count": null,
   "metadata": {},
   "outputs": [],
   "source": []
  },
  {
   "cell_type": "code",
   "execution_count": 10,
   "metadata": {},
   "outputs": [],
   "source": [
    "def get_A(xyzcoord, elts):\n",
    "    \"\"\"\n",
    "    Gets A matrix from x,y,z coordinates and keplerian element array\n",
    "    Parameters:\n",
    "    -----------\n",
    "    x,y,z coordinates, keplerian element array\n",
    "    Returns:\n",
    "    --------\n",
    "    A matrix\n",
    "    \"\"\"\n",
    "    c = 0\n",
    "    #E = MtoE(elts[1], elts[5])\n",
    "    E = elts[5]\n",
    "    for i in range(0, 2*n, 2):\n",
    "        A[i][0] = dalphada(xyzcoord[c][0], xyzcoord[c][1], elts[0], elts[1], elts[2], elts[3], elts[4], E)\n",
    "        A[i][1] = dalphade(xyzcoord[c][0], xyzcoord[c][1], elts[0], elts[1], elts[2], elts[3], elts[4], E)\n",
    "        A[i][2] = dalphadI(xyzcoord[c][0], xyzcoord[c][1], elts[0], elts[1], elts[2], elts[3], elts[4], E)\n",
    "        A[i][3] = dalphadomegaup(xyzcoord[c][0], xyzcoord[c][1], elts[0], elts[1], elts[2], elts[3], elts[4], E)\n",
    "        A[i][4] = dalphadomegalow(xyzcoord[c][0], xyzcoord[c][1], elts[0], elts[1], elts[2], elts[3], elts[4], E)\n",
    "        A[i][5] = dalphadE(xyzcoord[c][0], xyzcoord[c][1], elts[0], elts[1], elts[2], elts[3], elts[4], E)\n",
    "        A[i+1][0] = ddeltada(xyzcoord[c][0], xyzcoord[c][1], xyzcoord[c][2], elts[0], elts[1], elts[2], elts[3], elts[4], E)\n",
    "        A[i+1][1] = ddeltade(xyzcoord[c][0], xyzcoord[c][1], xyzcoord[c][2], elts[0], elts[1], elts[2], elts[3], elts[4], E)\n",
    "        A[i+1][2] = ddeltadI(xyzcoord[c][0], xyzcoord[c][1], xyzcoord[c][2], elts[0], elts[1], elts[2], elts[3], elts[4], E)\n",
    "        A[i+1][3] = ddeltadomegaup(xyzcoord[c][0], xyzcoord[c][1], xyzcoord[c][2], elts[0], elts[1], elts[2], elts[3], elts[4], E)\n",
    "        A[i+1][4] = ddeltadomegalow(xyzcoord[c][0], xyzcoord[c][1], xyzcoord[c][2], elts[0], elts[1], elts[2], elts[3], elts[4], E)\n",
    "        A[i+1][5] = ddeltadE(xyzcoord[c][0], xyzcoord[c][1], xyzcoord[c][2], elts[0], elts[1], elts[2], elts[3], elts[4], E)\n",
    "        c+=1\n",
    "    return A"
   ]
  },
  {
   "cell_type": "code",
   "execution_count": 11,
   "metadata": {},
   "outputs": [
    {
     "name": "stderr",
     "output_type": "stream",
     "text": [
      "<ipython-input-11-ae0d5296458d>:15: FutureWarning: `rcond` parameter will change to the default of machine precision times ``max(M, N)`` where M and N are the input matrix dimensions.\n",
      "To use the future default and silence this warning we advise to pass `rcond=None`, to keep using the old, explicitly pass `rcond=-1`.\n",
      "  x += np.linalg.lstsq(A, b)[0]\n"
     ]
    }
   ],
   "source": [
    "x = kepinit[:, None].copy()\n",
    "#print(x.shape)\n",
    "x[5] = MtoE(x[1], x[5])\n",
    "A = np.zeros((2*n, 6))\n",
    "\n",
    "#Iterative least-square process to find final keplerian state array\n",
    "for i in range(5):\n",
    "    xyz, C = kep2anglepairs(x, et[i])\n",
    "    C = np.array(C)\n",
    "    C.resize(2*n, 1)\n",
    "    A = get_A(xyz, x)\n",
    "    b = O - C\n",
    "    #print(A)\n",
    "    #print(b)\n",
    "    x += np.linalg.lstsq(A, b)[0]\n",
    "    #print(x)"
   ]
  },
  {
   "cell_type": "code",
   "execution_count": 12,
   "metadata": {},
   "outputs": [],
   "source": [
    "xfinal = x"
   ]
  },
  {
   "cell_type": "code",
   "execution_count": 13,
   "metadata": {},
   "outputs": [
    {
     "name": "stdout",
     "output_type": "stream",
     "text": [
      "[[5.79090683e+07]\n",
      " [1.95261746e-01]\n",
      " [1.04593604e-01]\n",
      " [9.44135062e-01]\n",
      " [6.08618869e-01]\n",
      " [3.02351866e+00]]\n"
     ]
    }
   ],
   "source": [
    "print(xfinal)"
   ]
  },
  {
   "cell_type": "code",
   "execution_count": 14,
   "metadata": {},
   "outputs": [
    {
     "name": "stdout",
     "output_type": "stream",
     "text": [
      "[5.79090683e+07 2.05630293e-01 1.22260564e-01 8.43527027e-01\n",
      " 5.08314607e-01 3.03211216e+00]\n"
     ]
    }
   ],
   "source": [
    "print(kepinit)"
   ]
  },
  {
   "cell_type": "code",
   "execution_count": 16,
   "metadata": {},
   "outputs": [
    {
     "data": {
      "text/plain": [
       "array([ 0.        , -0.01036855, -0.01766696,  0.10060803,  0.10030426,\n",
       "       -0.0085935 ])"
      ]
     },
     "execution_count": 16,
     "metadata": {},
     "output_type": "execute_result"
    }
   ],
   "source": [
    "xfinal[:,0] - kepinit"
   ]
  },
  {
   "cell_type": "code",
   "execution_count": null,
   "metadata": {},
   "outputs": [],
   "source": []
  }
 ],
 "metadata": {
  "interpreter": {
   "hash": "60ae9dda10c32793c78a9f42b2e55fdaecac0140f96348b305484b375fa1d7e8"
  },
  "kernelspec": {
   "display_name": "Python 3",
   "language": "python",
   "name": "python3"
  },
  "language_info": {
   "codemirror_mode": {
    "name": "ipython",
    "version": 3
   },
   "file_extension": ".py",
   "mimetype": "text/x-python",
   "name": "python",
   "nbconvert_exporter": "python",
   "pygments_lexer": "ipython3",
   "version": "3.8.5"
  }
 },
 "nbformat": 4,
 "nbformat_minor": 4
}
