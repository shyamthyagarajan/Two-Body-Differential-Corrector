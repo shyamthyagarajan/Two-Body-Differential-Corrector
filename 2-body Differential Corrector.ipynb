{
 "cells": [
  {
   "cell_type": "code",
   "execution_count": 1,
   "metadata": {},
   "outputs": [],
   "source": [
    "import numpy as np\n",
    "import pandas as pd\n",
    "import os\n",
    "import matplotlib.pyplot as plt\n",
    "import spiceypy\n",
    "import sympy as sym\n",
    "import math\n",
    "import numpy.linalg as la\n",
    "import scipy\n",
    "import random\n",
    "from scipy import linalg\n",
    "from scipy import optimize\n",
    "from astroquery.jplhorizons import Horizons"
   ]
  },
  {
   "cell_type": "code",
   "execution_count": 2,
   "metadata": {},
   "outputs": [],
   "source": [
    "def jd2et(jd):\n",
    "    \"\"\"\n",
    "    Converts Julian Date to JPL NAIF SPICE Ephemeris time.\n",
    "    Only valid for TDB timescales.\n",
    "    Parameters:\n",
    "    -----------\n",
    "    JD ... Modified Julian Day\n",
    "    Returns:\n",
    "    --------\n",
    "    ET  ... Ephemeris time (ephemeris seconds beyond epoch J2000)\n",
    "    \"\"\"\n",
    "    return (jd-2451545.0)*86400\n",
    "\n",
    "def MtoE(e, M):\n",
    "    \"\"\"\n",
    "    Converts mean anomaly to eccentric anomaly\n",
    "    Parameters:\n",
    "    -----------\n",
    "    Mean anomaly, eccentricity\n",
    "    Returns:\n",
    "    --------\n",
    "    Eccentric anomaly\n",
    "    \"\"\"\n",
    "    def f(E):\n",
    "        return E - e*np.sin(E) - M\n",
    "    def fprime(E):\n",
    "        return 1 - e*np.cos(E)\n",
    "    root = scipy.optimize.newton(f, x0=1, fprime=fprime)\n",
    "    return root\n",
    "\n",
    "def kep2anglepairs(t0, kep, obs_times):\n",
    "    \"\"\"\n",
    "    Converts keplerian element array to x,y,z coordinates and alpha, delta anglepairs\n",
    "    Parameters:\n",
    "    -----------\n",
    "    Keplerian element array, time\n",
    "    Returns:\n",
    "    --------\n",
    "    x,y,z coordinates and alpha, delta anglepairs\n",
    "    \"\"\"\n",
    "    mu = 1.3271246207314793E+11\n",
    "    n = len(obs_times)\n",
    "    q = kep[0]*(1-kep[1])\n",
    "    M = kep[5] - kep[1]*np.sin(kep[5]) # get mean anomaly from eccentric anomaly\n",
    "    elts = np.hstack((q,kep[1:5],M,jd2et(t0),mu))\n",
    "    xyz = []\n",
    "    anglepairs = []\n",
    "    for time in obs_times:\n",
    "        coordinates = spiceypy.conics(elts, jd2et(time))\n",
    "        x0 = coordinates[0]\n",
    "        y0 = coordinates[1]\n",
    "        z0 = coordinates[2]\n",
    "        alpha = np.arctan2(y0, x0)\n",
    "        delta = np.arcsin(z0 / (x0**2 + y0**2 + z0**2)**0.5)\n",
    "        xyz.append([x0, y0, z0])\n",
    "        anglepairs.append([alpha, delta])\n",
    "    anglepairs = np.array(anglepairs)\n",
    "    anglepairs.resize(2*n, 1)\n",
    "    return xyz, anglepairs\n",
    "\n",
    "#Partial derivative conversions for keplerian elements\n",
    "def dalphada(x, y, a, e, I, omegaup, omegalow, E):\n",
    "    dalphdx = -y / (x**2 + y**2)\n",
    "    dxda = -np.sin(E)*(np.sqrt(1 - e**2))*(np.cos(omegaup)*np.sin(omegalow) + np.sin(omegaup)*np.cos(omegalow)*np.cos(I)) + (np.cos(E) - e)*(np.cos(omegaup)*np.cos(omegalow) - np.sin(omegaup)*np.sin(omegalow)*np.cos(I))\n",
    "    return dalphdx*dxda\n",
    "\n",
    "def dalphade(x, y, a, e, I, omegaup, omegalow, E):\n",
    "    dalphdx = -y / (x**2 + y**2)\n",
    "    dxde = a*(-np.cos(omegaup)*np.cos(omegalow) + np.sin(omegaup)*np.sin(omegalow)*np.cos(I) + np.sin(E)*(e / np.sqrt(1 - e**2))*(np.cos(omegaup)*np.sin(omegalow) + np.sin(omegaup)*np.cos(omegalow)*np.cos(I)))\n",
    "    return dalphdx*dxde\n",
    "\n",
    "def dalphadI(x, y, a, e, I, omegaup, omegalow, E):\n",
    "    dalphdx = -y / (x**2 + y**2)\n",
    "    dxdI = a*np.sin(omegaup)*np.sin(omegalow)*((np.sqrt(1 - e**2)) * np.cos(omegalow) * np.sin(E) + np.sin(omegalow)*(np.cos(E) - e))\n",
    "    return dalphdx*dxdI\n",
    "\n",
    "def dalphadomegaup(x, y, a, e, I, omegaup, omegalow, E):\n",
    "    dalphdx = -y / (x**2 + y**2)\n",
    "    dxdomegaup = a*((np.sin(omegaup)*np.sin(omegalow) - np.cos(omegaup)*np.cos(omegalow)*np.cos(I))*np.sin(E)*np.sqrt(1 - e**2) - (np.cos(E) - e)*(np.sin(omegaup)*np.cos(omegalow) + np.cos(omegaup)*np.sin(omegalow)*np.cos(I)))\n",
    "    return dalphdx*dxdomegaup\n",
    "\n",
    "def dalphadomegalow(x, y, a, e, I, omegaup, omegalow, E):\n",
    "    dalphdx = -y / (x**2 + y**2)\n",
    "    dxdomegalow = a*((-np.cos(omegaup)*np.cos(omegalow) + np.sin(omegaup)*np.sin(omegalow)*np.cos(I))*np.sin(E)*(np.sqrt(1 - e**2)) - (np.cos(E) - e) * (np.cos(omegaup)*np.sin(omegalow) + np.sin(omegaup)*np.cos(omegalow)*np.cos(I)))\n",
    "    return dalphdx*dxdomegalow\n",
    "\n",
    "def dalphadE(x, y, a, e, I, omegaup, omegalow, E):\n",
    "    dalphdx = -y / (x**2 + y**2)\n",
    "    dxdE = -a*((np.cos(omegaup)*np.sin(omegalow) + np.sin(omegaup)*np.cos(omegalow)*np.cos(I))*np.cos(E)*(np.sqrt(1 - e**2)) + np.sin(E)*(np.cos(omegaup)*np.cos(omegalow) - np.sin(omegaup)*np.sin(omegalow)*np.cos(I)))\n",
    "    return dalphdx*dxdE\n",
    "\n",
    "def ddeltada(x, y, z, a, e, I, omegaup, omegalow, E):\n",
    "    ddeltdx = -(x*z) / ((np.sqrt(x**2 + y**2))*(x**2 + y**2 + z**2))\n",
    "    dxda = -np.sin(E)*(np.sqrt(1 - e**2))*(np.cos(omegaup)*np.sin(omegalow) + np.sin(omegaup)*np.cos(omegalow)*np.cos(I)) + (np.cos(E) - e)*(np.cos(omegaup)*np.cos(omegalow) - np.sin(omegaup)*np.sin(omegalow)*np.cos(I))\n",
    "    return ddeltdx*dxda\n",
    "\n",
    "def ddeltade(x, y, z, a, e, I, omegaup, omegalow, E):\n",
    "    ddeltdx = -(x*z) / ((np.sqrt(x**2 + y**2))*(x**2 + y**2 + z**2))\n",
    "    dxde = a*(-np.cos(omegaup)*np.cos(omegalow) + np.sin(omegaup)*np.sin(omegalow)*np.cos(I) + np.sin(E)*(e / np.sqrt(1 - e**2))*(np.cos(omegaup)*np.sin(omegalow) + np.sin(omegaup)*np.cos(omegalow)*np.cos(I)))\n",
    "    return ddeltdx*dxde\n",
    "\n",
    "def ddeltadI(x, y, z, a, e, I, omegaup, omegalow, E):\n",
    "    ddeltdx = -(x*z) / ((np.sqrt(x**2 + y**2))*(x**2 + y**2 + z**2))\n",
    "    dxdI = a*np.sin(omegaup)*np.sin(omegalow)*((np.sqrt(1 - e**2)) * np.cos(omegalow) * np.sin(E) + np.sin(omegalow)*(np.cos(E) - e))\n",
    "    return ddeltdx*dxdI\n",
    "\n",
    "def ddeltadomegaup(x, y, z, a, e, I, omegaup, omegalow, E):\n",
    "    ddeltdx = -(x*z) / ((np.sqrt(x**2 + y**2))*(x**2 + y**2 + z**2))\n",
    "    dxdomegaup = a*((np.sin(omegaup)*np.sin(omegalow) - np.cos(omegaup)*np.cos(omegalow)*np.cos(I))*np.sin(E)*np.sqrt(1 - e**2) - (np.cos(E) - e)*(np.sin(omegaup)*np.cos(omegalow) + np.cos(omegaup)*np.sin(omegalow)*np.cos(I)))\n",
    "    return ddeltdx*dxdomegaup\n",
    "\n",
    "def ddeltadomegalow(x, y, z, a, e, I, omegaup, omegalow, E):\n",
    "    ddeltdx = -(x*z) / ((np.sqrt(x**2 + y**2))*(x**2 + y**2 + z**2))\n",
    "    dxdomegalow = a*((-np.cos(omegaup)*np.cos(omegalow) + np.sin(omegaup)*np.sin(omegalow)*np.cos(I))*np.sin(E)*(np.sqrt(1 - e**2)) - (np.cos(E) - e) * (np.cos(omegaup)*np.sin(omegalow) + np.sin(omegaup)*np.cos(omegalow)*np.cos(I)))\n",
    "    return ddeltdx*dxdomegalow\n",
    "\n",
    "def ddeltadE(x, y, z, a, e, I, omegaup, omegalow, E):\n",
    "    ddeltdx = -(x*z) / ((np.sqrt(x**2 + y**2))*(x**2 + y**2 + z**2))\n",
    "    dxdE = -a*((np.cos(omegaup)*np.sin(omegalow) + np.sin(omegaup)*np.cos(omegalow)*np.cos(I))*np.cos(E)*(np.sqrt(1 - e**2)) + np.sin(E)*(np.cos(omegaup)*np.cos(omegalow) - np.sin(omegaup)*np.sin(omegalow)*np.cos(I)))\n",
    "    return ddeltdx*dxdE\n",
    "\n",
    "def get_A(xyzcoord, elts):\n",
    "    \"\"\"\n",
    "    Gets A matrix from x,y,z coordinates and keplerian element array\n",
    "    Parameters:\n",
    "    -----------\n",
    "    x,y,z coordinates, keplerian element array\n",
    "    Returns:\n",
    "    --------\n",
    "    A matrix\n",
    "    \"\"\"\n",
    "    n = len(xyzcoord)\n",
    "    A = np.zeros((2*n, 6))\n",
    "    for c, i in enumerate(range(0, 2*n, 2)):\n",
    "        A[i][0] = dalphada(xyzcoord[c][0], xyzcoord[c][1], elts[0], elts[1], elts[2], elts[3], elts[4], elts[5])\n",
    "        A[i][1] = dalphade(xyzcoord[c][0], xyzcoord[c][1], elts[0], elts[1], elts[2], elts[3], elts[4], elts[5])\n",
    "        A[i][2] = dalphadI(xyzcoord[c][0], xyzcoord[c][1], elts[0], elts[1], elts[2], elts[3], elts[4], elts[5])\n",
    "        A[i][3] = dalphadomegaup(xyzcoord[c][0], xyzcoord[c][1], elts[0], elts[1], elts[2], elts[3], elts[4], elts[5])\n",
    "        A[i][4] = dalphadomegalow(xyzcoord[c][0], xyzcoord[c][1], elts[0], elts[1], elts[2], elts[3], elts[4], elts[5])\n",
    "        A[i][5] = dalphadE(xyzcoord[c][0], xyzcoord[c][1], elts[0], elts[1], elts[2], elts[3], elts[4], elts[5])\n",
    "        A[i+1][0] = ddeltada(xyzcoord[c][0], xyzcoord[c][1], xyzcoord[c][2], elts[0], elts[1], elts[2], elts[3], elts[4], elts[5])\n",
    "        A[i+1][1] = ddeltade(xyzcoord[c][0], xyzcoord[c][1], xyzcoord[c][2], elts[0], elts[1], elts[2], elts[3], elts[4], elts[5])\n",
    "        A[i+1][2] = ddeltadI(xyzcoord[c][0], xyzcoord[c][1], xyzcoord[c][2], elts[0], elts[1], elts[2], elts[3], elts[4], elts[5])\n",
    "        A[i+1][3] = ddeltadomegaup(xyzcoord[c][0], xyzcoord[c][1], xyzcoord[c][2], elts[0], elts[1], elts[2], elts[3], elts[4], elts[5])\n",
    "        A[i+1][4] = ddeltadomegalow(xyzcoord[c][0], xyzcoord[c][1], xyzcoord[c][2], elts[0], elts[1], elts[2], elts[3], elts[4], elts[5])\n",
    "        A[i+1][5] = ddeltadE(xyzcoord[c][0], xyzcoord[c][1], xyzcoord[c][2], elts[0], elts[1], elts[2], elts[3], elts[4], elts[5])\n",
    "    return A\n",
    "\n"
   ]
  },
  {
   "cell_type": "code",
   "execution_count": 3,
   "metadata": {},
   "outputs": [
    {
     "name": "stderr",
     "output_type": "stream",
     "text": [
      "WARNING: AstropyDeprecationWarning: ``id_type``s 'majorbody' and 'id' are deprecated and replaced with ``None``, which has the same functionality. [astroquery.jplhorizons.core]\n"
     ]
    },
    {
     "name": "stdout",
     "output_type": "stream",
     "text": [
      "  targetname \n",
      "     ---     \n",
      "-------------\n",
      "Mercury (199)\n"
     ]
    }
   ],
   "source": [
    "# Define constants\n",
    "au2km = 149597870.7\n",
    "deg2rad = np.pi/180\n",
    "\n",
    "# Specify observation parameters\n",
    "t0 = 2451545.0 # epoch at which state needs to be determined (JD)\n",
    "obs_interval = 10 # time between observations (days)\n",
    "n = 5 # number of observations\n",
    "obs_times = [t0 + i*obs_interval for i in range(n)] # epoch for each observation (JD)\n",
    "\n",
    "# Initial keplerian state values from JPL Horizons\n",
    "body = Horizons(id='199', id_type='majorbody', location='Sun', epochs=t0) # 199=Mercury, get other IDs from https://naif.jpl.nasa.gov/pub/naif/toolkit_docs/C/req/naif_ids.html\n",
    "elems = body.elements()\n",
    "print(elems['targetname'])\n",
    "keys = ['a', 'e', 'incl', 'Omega', 'w', 'nu']\n",
    "kep_actual = np.array([float(elems[key]) for key in keys])\n",
    "kep_actual[0] *= au2km # convert sma to km\n",
    "kep_actual[2:] *= deg2rad # convert all angles (i, OM, w, nu) to radians\n",
    "kep_actual[5] = 2*np.arctan2(np.tan(kep_actual[5]/2)*(1-kep_actual[1])**0.5, (1+kep_actual[1])**0.5) # convert true anomaly to eccentric anomaly\n",
    "\n",
    "# Generate the O matrix using the initial C matrix and random noise\n",
    "xyz, C = kep2anglepairs(t0, kep_actual, obs_times)\n",
    "O = C.copy()\n",
    "for i in range(0,len(O), 2):\n",
    "    O[i:i+2] += 1 / (10**random.uniform(4,6))"
   ]
  },
  {
   "cell_type": "code",
   "execution_count": 4,
   "metadata": {},
   "outputs": [
    {
     "data": {
      "text/plain": [
       "array([[2.97366111e-05],\n",
       "       [2.97366111e-05],\n",
       "       [5.78987438e-05],\n",
       "       [5.78987438e-05],\n",
       "       [8.78721032e-06],\n",
       "       [8.78721032e-06],\n",
       "       [5.94100063e-05],\n",
       "       [5.94100063e-05],\n",
       "       [8.15552100e-06],\n",
       "       [8.15552100e-06]])"
      ]
     },
     "execution_count": 4,
     "metadata": {},
     "output_type": "execute_result"
    }
   ],
   "source": [
    "O-C"
   ]
  },
  {
   "cell_type": "code",
   "execution_count": 5,
   "metadata": {},
   "outputs": [
    {
     "name": "stdout",
     "output_type": "stream",
     "text": [
      "[ 0.00000000e+00 -3.84520425e-06 -3.56128542e-06  2.17216521e-05\n",
      "  2.16563690e-05  1.75062186e-05]\n"
     ]
    }
   ],
   "source": [
    "x = kep_actual.copy() # for now, initial guess is exactly correct\n",
    "n_iter = 10 # specify number of differential corrector iterations\n",
    "rms = [] # initialize RMS container\n",
    "for _ in range(n_iter):\n",
    "    xyz, C = kep2anglepairs(t0, x, obs_times)\n",
    "    A = get_A(xyz, x)\n",
    "    b = O - C\n",
    "    x += np.linalg.lstsq(A, b, rcond=None)[0][:,0]\n",
    "    rms.append(float(b.T @ b)**0.5)\n",
    "print(x - kep_actual)"
   ]
  },
  {
   "cell_type": "code",
   "execution_count": 6,
   "metadata": {},
   "outputs": [
    {
     "data": {
      "image/png": "[encoded data removed]",
      "text/plain": [
       "<Figure size 800x600 with 1 Axes>"
      ]
     },
     "metadata": {
      "needs_background": "light"
     },
     "output_type": "display_data"
    }
   ],
   "source": [
    "# plot RMS evolution through each iteration\n",
    "radians = True\n",
    "rms = np.array(rms) if radians else np.array(rms)*180/np.pi*3600 # convert RMS from radians to seconds of arc\n",
    "plt.figure(figsize=(8,6), dpi=100)\n",
    "plt.semilogy(np.arange(1,n_iter+1), rms, label = 'RMS')\n",
    "plt.xlim(1, n_iter)\n",
    "plt.xlabel('Iteration #')\n",
    "plt.ylabel('Unweighted RMS [rad]') if radians else plt.ylabel('Unweighted RMS [Seconds of Arc]')\n",
    "plt.legend()\n",
    "plt.show()"
   ]
  },
  {
   "cell_type": "code",
   "execution_count": null,
   "metadata": {},
   "outputs": [],
   "source": []
  }
 ],
 "metadata": {
  "kernelspec": {
   "display_name": "Python 3",
   "language": "python",
   "name": "python3"
  },
  "language_info": {
   "codemirror_mode": {
    "name": "ipython",
    "version": 3
   },
   "file_extension": ".py",
   "mimetype": "text/x-python",
   "name": "python",
   "nbconvert_exporter": "python",
   "pygments_lexer": "ipython3",
   "version": "3.8.5"
  },
  "vscode": {
   "interpreter": {
    "hash": "60ae9dda10c32793c78a9f42b2e55fdaecac0140f96348b305484b375fa1d7e8"
   }
  }
 },
 "nbformat": 4,
 "nbformat_minor": 4
}
